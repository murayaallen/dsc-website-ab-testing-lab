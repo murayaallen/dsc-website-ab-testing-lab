{
 "cells": [
  {
   "cell_type": "markdown",
   "metadata": {},
   "source": [
    "# Website A/B Testing - Lab\n",
    "\n",
    "## Introduction\n",
    "\n",
    "In this lab, you'll get another chance to practice your skills at conducting a full A/B test analysis. It will also be a chance to practice your data exploration and processing skills! The scenario you'll be investigating is data collected from the homepage of a music app page for audacity.\n",
    "\n",
    "## Objectives\n",
    "\n",
    "You will be able to:\n",
    "* Analyze the data from a website A/B test to draw relevant conclusions\n",
    "* Explore and analyze web action data"
   ]
  },
  {
   "cell_type": "markdown",
   "metadata": {},
   "source": [
    "## Exploratory Analysis\n",
    "\n",
    "Start by loading in the dataset stored in the file 'homepage_actions.csv'. Then conduct an exploratory analysis to get familiar with the data."
   ]
  },
  {
   "cell_type": "markdown",
   "metadata": {},
   "source": [
    "> Hints:\n",
    "    * Start investigating the id column:\n",
    "        * How many viewers also clicked?\n",
    "        * Are there any anomalies with the data; did anyone click who didn't view?\n",
    "        * Is there any overlap between the control and experiment groups? \n",
    "            * If so, how do you plan to account for this in your experimental design?"
   ]
  },
  {
   "cell_type": "code",
   "execution_count": 1,
   "metadata": {},
   "outputs": [
    {
     "name": "stdout",
     "output_type": "stream",
     "text": [
      "Number of rows and columns: (8188, 4)\n",
      "\n",
      "Column names: Index(['timestamp', 'id', 'group', 'action'], dtype='object')\n",
      "\n",
      "Data types of columns:\n",
      "timestamp    object\n",
      "id            int64\n",
      "group        object\n",
      "action       object\n",
      "dtype: object\n",
      "\n",
      "Summary statistics:\n",
      "                  id\n",
      "count    8188.000000\n",
      "mean   564699.749878\n",
      "std    219085.845672\n",
      "min    182988.000000\n",
      "25%    373637.500000\n",
      "50%    566840.500000\n",
      "75%    758078.000000\n",
      "max    937217.000000\n",
      "\n",
      "Number of viewers who also clicked: 1860\n",
      "\n",
      "Number of anomalies (click without view): 0\n",
      "\n",
      "Number of users in both control and experiment groups: 0\n"
     ]
    },
    {
     "name": "stderr",
     "output_type": "stream",
     "text": [
      "C:\\Users\\hp\\AppData\\Local\\Temp\\ipykernel_23448\\3553454404.py:16: UserWarning: Boolean Series key will be reindexed to match DataFrame index.\n",
      "  click_without_view = df[df['action'] == 'click'][~df['id'].isin(df[df['action'] == 'view']['id'])]\n"
     ]
    }
   ],
   "source": [
    "import pandas as pd\n",
    "df = pd.read_csv('homepage_actions.csv')\n",
    "print(\"Number of rows and columns:\", df.shape)\n",
    "print(\"\\nColumn names:\", df.columns)\n",
    "print(\"\\nData types of columns:\")\n",
    "print(df.dtypes)\n",
    "print(\"\\nSummary statistics:\")\n",
    "print(df.describe())\n",
    "\n",
    "viewers = df[df['action'] == 'view']\n",
    "clickers = df[df['action'] == 'click']\n",
    "common_users = viewers[viewers['id'].isin(clickers['id'])]\n",
    "\n",
    "print(\"\\nNumber of viewers who also clicked:\", len(common_users))\n",
    "\n",
    "click_without_view = df[df['action'] == 'click'][~df['id'].isin(df[df['action'] == 'view']['id'])]\n",
    "\n",
    "print(\"\\nNumber of anomalies (click without view):\", len(click_without_view))\n",
    "control_group = df[df['group'] == 'control']['id'].unique()\n",
    "experiment_group = df[df['group'] == 'experiment']['id'].unique()\n",
    "\n",
    "overlap_users = set(control_group).intersection(experiment_group)\n",
    "\n",
    "print(\"\\nNumber of users in both control and experiment groups:\", len(overlap_users))"
   ]
  },
  {
   "cell_type": "markdown",
   "metadata": {},
   "source": [
    "## Conduct a Statistical Test\n",
    "\n",
    "Conduct a statistical test to determine whether the experimental homepage was more effective than that of the control group."
   ]
  },
  {
   "cell_type": "code",
   "execution_count": 2,
   "metadata": {},
   "outputs": [
    {
     "name": "stdout",
     "output_type": "stream",
     "text": [
      "There is no significant difference in effectiveness between the experimental and control groups' homepages.\n",
      "\n",
      "Z-statistic: -1.9332699751308076\n",
      "p-value: 0.9733985257385523\n"
     ]
    }
   ],
   "source": [
    "from statsmodels.stats.proportion import proportions_ztest\n",
    "\n",
    "control_clicks = len(df[(df['group'] == 'control') & (df['action'] == 'click')])\n",
    "experiment_clicks = len(df[(df['group'] == 'experiment') & (df['action'] == 'click')])\n",
    "\n",
    "control_users = len(df[df['group'] == 'control'])\n",
    "experiment_users = len(df[df['group'] == 'experiment'])\n",
    "\n",
    "control_ctr = control_clicks / control_users\n",
    "experiment_ctr = experiment_clicks / experiment_users\n",
    "\n",
    "z_stat, p_value = proportions_ztest([control_clicks, experiment_clicks], [control_users, experiment_users], alternative='larger')\n",
    "\n",
    "alpha = 0.05\n",
    "\n",
    "if p_value < alpha:\n",
    "    print(\"The experimental homepage is more effective than the control group's homepage.\")\n",
    "else:\n",
    "    print(\"There is no significant difference in effectiveness between the experimental and control groups' homepages.\")\n",
    "\n",
    "print(\"\\nZ-statistic:\", z_stat)\n",
    "print(\"p-value:\", p_value)"
   ]
  },
  {
   "cell_type": "markdown",
   "metadata": {},
   "source": [
    "## Verifying Results\n",
    "\n",
    "One sensible formulation of the data to answer the hypothesis test above would be to create a binary variable representing each individual in the experiment and control group. This binary variable would represent whether or not that individual clicked on the homepage; 1 for they did and 0 if they did not. \n",
    "\n",
    "The variance for the number of successes in a sample of a binomial variable with n observations is given by:\n",
    "\n",
    "## $n\\bullet p (1-p)$\n",
    "\n",
    "Given this, perform 3 steps to verify the results of your statistical test:\n",
    "1. Calculate the expected number of clicks for the experiment group, if it had the same click-through rate as that of the control group. \n",
    "2. Calculate the number of standard deviations that the actual number of clicks was from this estimate. \n",
    "3. Finally, calculate a p-value using the normal distribution based on this z-score."
   ]
  },
  {
   "cell_type": "markdown",
   "metadata": {},
   "source": [
    "### Step 1:\n",
    "Calculate the expected number of clicks for the experiment group, if it had the same click-through rate as that of the control group. "
   ]
  },
  {
   "cell_type": "code",
   "execution_count": 3,
   "metadata": {},
   "outputs": [
    {
     "name": "stdout",
     "output_type": "stream",
     "text": [
      "Expected number of clicks for the experiment group: 857.6848030018762\n"
     ]
    }
   ],
   "source": [
    "control_ctr = control_clicks / control_users\n",
    "expected_experiment_clicks = control_ctr * experiment_users\n",
    "print('Expected number of clicks for the experiment group:', expected_experiment_clicks)"
   ]
  },
  {
   "cell_type": "markdown",
   "metadata": {},
   "source": [
    "### Step 2:\n",
    "Calculate the number of standard deviations that the actual number of clicks was from this estimate."
   ]
  },
  {
   "cell_type": "code",
   "execution_count": 4,
   "metadata": {},
   "outputs": [
    {
     "name": "stdout",
     "output_type": "stream",
     "text": [
      "Z-score: 2.71607302278784\n"
     ]
    }
   ],
   "source": [
    "binomial_std_dev = (experiment_users * control_ctr * (1 - control_ctr)) ** 0.5\n",
    "z_score = (experiment_clicks - expected_experiment_clicks) / binomial_std_dev\n",
    "print('Z-score:', z_score)"
   ]
  },
  {
   "cell_type": "markdown",
   "metadata": {},
   "source": [
    "### Step 3: \n",
    "Finally, calculate a p-value using the normal distribution based on this z-score."
   ]
  },
  {
   "cell_type": "code",
   "execution_count": 5,
   "metadata": {},
   "outputs": [
    {
     "name": "stdout",
     "output_type": "stream",
     "text": [
      "p-value using the normal distribution: 0.0033030672759265522\n"
     ]
    }
   ],
   "source": [
    "from scipy.stats import norm\n",
    "p_value_normal = 1 - norm.cdf(z_score)\n",
    "print('p-value using the normal distribution:', p_value_normal)"
   ]
  },
  {
   "cell_type": "markdown",
   "metadata": {},
   "source": [
    "### Analysis:\n",
    "\n",
    "Does this result roughly match that of the previous statistical test?\n",
    "\n",
    "> Comment: **Your analysis here**"
   ]
  },
  {
   "cell_type": "markdown",
   "metadata": {},
   "source": [
    "## Summary\n",
    "\n",
    "In this lab, you continued to get more practice designing and conducting AB tests. This required additional work preprocessing and formulating the initial problem in a suitable manner. Additionally, you also saw how to verify results, strengthening your knowledge of binomial variables, and reviewing initial statistical concepts of the central limit theorem, standard deviation, z-scores, and their accompanying p-values."
   ]
  }
 ],
 "metadata": {
  "kernelspec": {
   "display_name": "Python 3 (ipykernel)",
   "language": "python",
   "name": "python3"
  },
  "language_info": {
   "codemirror_mode": {
    "name": "ipython",
    "version": 3
   },
   "file_extension": ".py",
   "mimetype": "text/x-python",
   "name": "python",
   "nbconvert_exporter": "python",
   "pygments_lexer": "ipython3",
   "version": "3.11.4"
  }
 },
 "nbformat": 4,
 "nbformat_minor": 2
}
